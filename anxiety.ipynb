{
 "cells": [
  {
   "cell_type": "code",
   "execution_count": null,
   "id": "663ae0ee-6192-4a79-adb7-8f83bc5f75ec",
   "metadata": {},
   "outputs": [],
   "source": [
    "import pandas as pd\n",
    "import numpy as np \n",
    "import seaborn as sns\n",
    "from sklearn.metrics import mean_absolute_error, mean_squared_error, mean_absolute_percentage_error\n",
    "import statsmodels.stats.stattools as stt\n",
    "# for general plotting\n",
    "import matplotlib.pyplot as plt\n",
    "import statsmodels .api as sm\n",
    "from statsmodels.graphics.tsaplots import plot_acf, plot_pacf\n",
    "from statsmodels.tsa.arima.model import ARIMA\n",
    "from statsmodels.tsa.seasonal import seasonal_decompose\n",
    "from statsmodels.tsa.statespace.sarimax import SARIMAX\n",
    "from scipy.stats import shapiro"
   ]
  },
  {
   "cell_type": "code",
   "execution_count": null,
   "id": "14efd21d-b4ec-491a-a1d3-e890818d5b75",
   "metadata": {},
   "outputs": [],
   "source": [
    "df_mental_health = pd.read_csv('/Users/becca/Desktop/NCI -DA/APDV/x23436786/Indicators_of_Anxiety_or_Depression_Based_on_Reported_Frequency_of_Symptoms_During_Last_7_Days_20241204.csv')\n"
   ]
  },
  {
   "cell_type": "code",
   "execution_count": null,
   "id": "e3b113ca-5120-4c07-87b8-97f2fe52dfb8",
   "metadata": {},
   "outputs": [],
   "source": [
    "df_mental_health.head()"
   ]
  },
  {
   "cell_type": "code",
   "execution_count": 10,
   "id": "f2dd5130-4704-444b-a6a8-fdcd69f0e95d",
   "metadata": {},
   "outputs": [
    {
     "name": "stdout",
     "output_type": "stream",
     "text": [
      "(16794, 14)\n"
     ]
    }
   ],
   "source": [
    "print(df_mental_health.shape)"
   ]
  },
  {
   "cell_type": "code",
   "execution_count": null,
   "id": "9081770d-d0e8-4a17-80a3-c6c7692c709d",
   "metadata": {},
   "outputs": [],
   "source": []
  }
 ],
 "metadata": {
  "kernelspec": {
   "display_name": "Python 3 (ipykernel)",
   "language": "python",
   "name": "python3"
  },
  "language_info": {
   "codemirror_mode": {
    "name": "ipython",
    "version": 3
   },
   "file_extension": ".py",
   "mimetype": "text/x-python",
   "name": "python",
   "nbconvert_exporter": "python",
   "pygments_lexer": "ipython3",
   "version": "3.12.4"
  }
 },
 "nbformat": 4,
 "nbformat_minor": 5
}
